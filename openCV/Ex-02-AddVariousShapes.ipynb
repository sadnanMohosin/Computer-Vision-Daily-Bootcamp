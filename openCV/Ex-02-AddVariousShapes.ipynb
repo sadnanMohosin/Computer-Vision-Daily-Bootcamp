{
 "cells": [
  {
   "cell_type": "markdown",
   "metadata": {},
   "source": [
    "# Add Various shape"
   ]
  },
  {
   "cell_type": "code",
   "execution_count": 2,
   "metadata": {},
   "outputs": [],
   "source": [
    "import cv2\n",
    "import numpy as np"
   ]
  },
  {
   "cell_type": "markdown",
   "metadata": {},
   "source": [
    "Drawing a line on black image "
   ]
  },
  {
   "cell_type": "code",
   "execution_count": 4,
   "metadata": {},
   "outputs": [],
   "source": [
    "#image\n",
    "black_image = np.zeros((512,512,3), np.uint8)\n",
    "\n",
    "#Draw line \n",
    "cv2.line(black_image, (1,1),(250,250),(100,255,0),4) # image,start point,end point,color,thikness\n",
    "cv2.imshow(\"Flouresent Line\", black_image)\n",
    "\n",
    "cv2.waitKey(6000)\n",
    "cv2.destroyAllWindows()"
   ]
  },
  {
   "cell_type": "markdown",
   "metadata": {},
   "source": [
    "Draw Circle on black image"
   ]
  },
  {
   "cell_type": "code",
   "execution_count": 5,
   "metadata": {},
   "outputs": [],
   "source": [
    "#Image\n",
    "black_image = np.zeros((512,512,3), np.uint8)\n",
    "\n",
    "#Draw Circle\n",
    "cv2.circle(black_image,(250,250), 175, (255,0,0),4)\n",
    "cv2.imshow(\"Circle\", black_image)\n",
    "\n",
    "cv2.waitKey(6000)\n",
    "cv2.destroyAllWindows()"
   ]
  },
  {
   "cell_type": "markdown",
   "metadata": {},
   "source": [
    "\n",
    "Drawing a Rectangle o Black Image"
   ]
  },
  {
   "cell_type": "code",
   "execution_count": null,
   "metadata": {},
   "outputs": [],
   "source": [
    "#Image\n",
    "black_image = np.zeros((512,512,3), np.uint8)\n",
    "\n",
    "#Draw Rectangle\n",
    "cv2.rectangle(black_image, (50,100), (250,250), (110,100,90),-1)\n",
    "cv2.imshow(\"Rectangle\", black_image)\n",
    "\n",
    "cv2.waitKey(6000)\n",
    "cv2.destroyAllWindows()"
   ]
  }
 ],
 "metadata": {
  "interpreter": {
   "hash": "63f9911de6f9547d26d6ccd5b997d4c24c9ba8fc8843a26db797dceee8b60692"
  },
  "kernelspec": {
   "display_name": "Python 3.10.4 64-bit (windows store)",
   "language": "python",
   "name": "python3"
  },
  "language_info": {
   "codemirror_mode": {
    "name": "ipython",
    "version": 3
   },
   "file_extension": ".py",
   "mimetype": "text/x-python",
   "name": "python",
   "nbconvert_exporter": "python",
   "pygments_lexer": "ipython3",
   "version": "3.10.4"
  },
  "orig_nbformat": 4
 },
 "nbformat": 4,
 "nbformat_minor": 2
}
